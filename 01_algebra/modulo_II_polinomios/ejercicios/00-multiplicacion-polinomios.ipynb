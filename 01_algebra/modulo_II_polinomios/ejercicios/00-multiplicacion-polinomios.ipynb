{
 "cells": [
  {
   "cell_type": "markdown",
   "id": "pursuant-crazy",
   "metadata": {},
   "source": [
    "### Ejercicio 1\n",
    "\n",
    "(2x^3)(3x^2) =\n",
    "\n",
    "6x^5"
   ]
  },
  {
   "cell_type": "markdown",
   "id": "controversial-discharge",
   "metadata": {},
   "source": [
    "### Ejercicio 2\n",
    "\n",
    "(-4mn) (-2mn^3.p) =\n",
    "\n",
    "8m^2.n^4.p"
   ]
  },
  {
   "cell_type": "markdown",
   "id": "efficient-interstate",
   "metadata": {},
   "source": [
    "### Ejercicio 3\n",
    "\n",
    "(x/2) (4x^5.y/6) =\n",
    "\n",
    "x(4x^5.y)/2.6 =\n",
    "\n",
    "4x^6.y/12 =\n",
    "\n",
    "x^6.y/3 "
   ]
  },
  {
   "cell_type": "markdown",
   "id": "disturbed-loading",
   "metadata": {},
   "source": [
    "### Ejercicio 4\n",
    "\n",
    "(x^m.y^n.z^s) (x^n.y^r.z^2) =\n",
    "\n",
    "x^m+n.y^n+r.z^s+2"
   ]
  }
 ],
 "metadata": {
  "kernelspec": {
   "display_name": "Python 3",
   "language": "python",
   "name": "python3"
  },
  "language_info": {
   "codemirror_mode": {
    "name": "ipython",
    "version": 3
   },
   "file_extension": ".py",
   "mimetype": "text/x-python",
   "name": "python",
   "nbconvert_exporter": "python",
   "pygments_lexer": "ipython3",
   "version": "3.8.5"
  }
 },
 "nbformat": 4,
 "nbformat_minor": 5
}
