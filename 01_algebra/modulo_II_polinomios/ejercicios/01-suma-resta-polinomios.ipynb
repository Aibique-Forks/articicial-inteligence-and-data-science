{
 "cells": [
  {
   "cell_type": "markdown",
   "id": "interstate-toyota",
   "metadata": {},
   "source": [
    "### Suma de polinomios 1\n",
    "\n",
    "x^2 + x - 9 ; 3x^2 - 2x - 6 =\n",
    "\n",
    "4x^2 + 3x - 15"
   ]
  },
  {
   "cell_type": "markdown",
   "id": "creative-buying",
   "metadata": {},
   "source": [
    "### Suma de polinomios 2\n",
    "\n",
    "3m^2 + 2mn - 5n^2 ; 4mn - 2n^2 ; m^2 + 3mn - n^2 =\n",
    "\n",
    "4m^2 + 9mn - 8n^2 "
   ]
  },
  {
   "cell_type": "markdown",
   "id": "personal-affair",
   "metadata": {},
   "source": [
    "### Suma de polinomios 3\n",
    "\n",
    "a^x + 3a^x+2 ; 5a^x-1 + 6a^x-3 ; 7a^x-3 - 2a^x  - 3a^x+2 =\n",
    "\n",
    "-a^x + 5a^x-1 + 13a^x-3"
   ]
  },
  {
   "cell_type": "markdown",
   "id": "intense-station",
   "metadata": {},
   "source": [
    "### Suma de polinomios 3\n",
    "\n",
    "a^4 - b^4 ; -a^3.b + a^2.b^2 - ab^3 ; -3a^4 + 5a^3.b - 4a^2.b^2 - 4ab^3\n",
    "\n",
    "-2a^4 - b^4 + 4a^3.b - 3a^2.b^2 - 5ab^3"
   ]
  },
  {
   "cell_type": "markdown",
   "id": "chief-tours",
   "metadata": {},
   "source": [
    "### Suma de polinomios 4\n",
    "\n",
    "3x^2 + xy - y^2 ; - 5x^2 - 3y^2 ; 2xy + y^2 ; 4x^2 - 3xy - 2y^2 + 5 =\n",
    "\n",
    "2x^2 - 5y^2 + 5"
   ]
  }
 ],
 "metadata": {
  "kernelspec": {
   "display_name": "Python 3",
   "language": "python",
   "name": "python3"
  },
  "language_info": {
   "codemirror_mode": {
    "name": "ipython",
    "version": 3
   },
   "file_extension": ".py",
   "mimetype": "text/x-python",
   "name": "python",
   "nbconvert_exporter": "python",
   "pygments_lexer": "ipython3",
   "version": "3.8.5"
  }
 },
 "nbformat": 4,
 "nbformat_minor": 5
}
