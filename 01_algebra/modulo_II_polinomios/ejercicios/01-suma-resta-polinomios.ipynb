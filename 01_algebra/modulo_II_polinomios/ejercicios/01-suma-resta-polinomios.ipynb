{
 "cells": [
  {
   "cell_type": "markdown",
   "id": "greatest-discount",
   "metadata": {},
   "source": [
    "### Suma de polinomios 1\n",
    "\n",
    "x^2 + x - 9 ; 3x^2 - 2x - 6 =\n",
    "\n",
    "4x^2 + 3x - 15"
   ]
  },
  {
   "cell_type": "markdown",
   "id": "medium-hacker",
   "metadata": {},
   "source": [
    "### Suma de polinomios 2\n",
    "\n",
    "3m^2 + 2mn - 5n^2 ; 4mn - 2n^2 ; m^2 + 3mn - n^2 =\n",
    "\n",
    "4m^2 + 9mn - 8n^2 "
   ]
  },
  {
   "cell_type": "markdown",
   "id": "incredible-status",
   "metadata": {},
   "source": [
    "### Suma de polinomios 3\n",
    "\n",
    "a^x + 3a^x+2 ; 5a^x-1 + 6a^x-3 ; 7a^x-3 - 2a^x  - 3a^x+2 =\n",
    "\n",
    "-a^x + 5a^x-1 + 13a^x-3"
   ]
  },
  {
   "cell_type": "markdown",
   "id": "unique-winning",
   "metadata": {},
   "source": [
    "### Suma de polinomios 3\n",
    "\n",
    "a^4 - b^4 ; -a^3.b + a^2.b^2 - ab^3 ; -3a^4 + 5a^3.b - 4a^2.b^2 - 4ab^3\n",
    "\n",
    "-2a^4 - b^4 + 4a^3.b - 3a^2.b^2 - 5ab^3"
   ]
  },
  {
   "cell_type": "code",
   "execution_count": null,
   "id": "emerging-custody",
   "metadata": {},
   "outputs": [],
   "source": []
  }
 ],
 "metadata": {
  "kernelspec": {
   "display_name": "Python 3",
   "language": "python",
   "name": "python3"
  },
  "language_info": {
   "codemirror_mode": {
    "name": "ipython",
    "version": 3
   },
   "file_extension": ".py",
   "mimetype": "text/x-python",
   "name": "python",
   "nbconvert_exporter": "python",
   "pygments_lexer": "ipython3",
   "version": "3.8.5"
  }
 },
 "nbformat": 4,
 "nbformat_minor": 5
}
