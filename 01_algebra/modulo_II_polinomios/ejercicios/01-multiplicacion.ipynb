{
 "cells": [
  {
   "cell_type": "markdown",
   "id": "irish-costume",
   "metadata": {},
   "source": [
    "### Ejercicio 1\n",
    "\n",
    "(a-b) (x+y-z) =\n",
    "\n",
    "ax + ay - az - bx - by + bz"
   ]
  },
  {
   "cell_type": "markdown",
   "id": "nearby-progressive",
   "metadata": {},
   "source": [
    "### Ejercicio 2\n",
    "\n",
    "(3x + 2y) (5x - 4y) =\n",
    "\n",
    "15x^2 - 12xy + 10xy - 8y^2 =\n",
    "\n",
    "15x^2 - 2xy - 8y^2"
   ]
  },
  {
   "cell_type": "markdown",
   "id": "caroline-pastor",
   "metadata": {},
   "source": [
    "### Ejercicio 3\n",
    "\n",
    "(-2m^2.n + 3m) (-5m + 4m^2.n - 6) =\n",
    "\n",
    "10m^3.n - 8m^4.n^2 - 12m^2.n - 15m^2 + 12m^3.n - 18m =\n",
    "\n",
    "22m^3.n - 8m^4.n^2 - 12m^2.n - 15m^2 - 18m"
   ]
  },
  {
   "cell_type": "markdown",
   "id": "congressional-craft",
   "metadata": {},
   "source": [
    "### Ejercicio 4\n",
    "\n",
    "(5x^3 - 4x^2 + x) (-3x^2 +6x -7) =\n",
    "\n",
    "-15x^5 + 30x^4 - 35x^3 + 12x^4 - 24x^3 + 28x^2 - 3x^3 + 6x^2 - 7x =\n",
    "\n",
    "-15x^5 + 42x^4 - 62x^3 + 34x^2 - 42x"
   ]
  }
 ],
 "metadata": {
  "kernelspec": {
   "display_name": "Python 3",
   "language": "python",
   "name": "python3"
  },
  "language_info": {
   "codemirror_mode": {
    "name": "ipython",
    "version": 3
   },
   "file_extension": ".py",
   "mimetype": "text/x-python",
   "name": "python",
   "nbconvert_exporter": "python",
   "pygments_lexer": "ipython3",
   "version": "3.8.5"
  }
 },
 "nbformat": 4,
 "nbformat_minor": 5
}
