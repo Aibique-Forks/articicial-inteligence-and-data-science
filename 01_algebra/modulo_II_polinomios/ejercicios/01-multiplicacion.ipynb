{
 "cells": [
  {
   "cell_type": "markdown",
   "id": "nonprofit-fleece",
   "metadata": {},
   "source": [
    "### Ejercicio 1\n",
    "\n",
    "(a-b) (x+y-z) =\n",
    "\n",
    "ax + ay - az - bx - by + bz"
   ]
  },
  {
   "cell_type": "markdown",
   "id": "cloudy-theta",
   "metadata": {},
   "source": [
    "### Ejercicio 2\n",
    "\n",
    "(3x + 2y) (5x - 4y) =\n",
    "\n",
    "15x^2 - 12xy + 10xy - 8y^2 =\n",
    "\n",
    "15x^2 - 2xy - 8y^2"
   ]
  },
  {
   "cell_type": "markdown",
   "id": "growing-toolbox",
   "metadata": {},
   "source": [
    "### Ejercicio 3\n",
    "\n",
    "(-2m^2.n + 3m) (-5m + 4m^2.n - 6) =\n",
    "\n",
    "10m^3.n - 8m^4.n^2 - 12m^2.n - 15m^2 + 12m^3.n - 18m =\n",
    "\n",
    "22m^3.n - 8m^4.n^2 - 12m^2.n - 15m^2 - 18m"
   ]
  },
  {
   "cell_type": "markdown",
   "id": "minimal-colorado",
   "metadata": {},
   "source": [
    "### Ejercicio 4\n",
    "\n",
    "(5x^3 - 4x^2 + x) (-3x^2 +6x -7) =\n",
    "\n",
    "-15x^5 + 30x^4 - 35x^3 + 12x^4 - 24x^3 + 28x^2 - 3x^3 + 6x^2 - 7x =\n",
    "\n",
    "-15x^5 + 42x^4 - 62x^3 + 34x^2 - 7x"
   ]
  },
  {
   "cell_type": "markdown",
   "id": "supreme-vacuum",
   "metadata": {},
   "source": [
    "### Ejercicio 5\n",
    "\n",
    "(5x^2y)(2xy)(-4x^2) =\n",
    "\n",
    "5x^2y . 2xy (-4x^2) =\n",
    "\n",
    "10x^3.y^2 (-4x^2) =\n",
    "\n",
    "-40x^5.y^2"
   ]
  },
  {
   "cell_type": "markdown",
   "id": "scenic-translation",
   "metadata": {},
   "source": [
    "### Ejercicio 6\n",
    "\n",
    "5x . 6xy (x^2+xy) =\n",
    "\n",
    "5x . 6xy (x^2+xy) =\n",
    "\n",
    "30x^2.y (x^2 + xy) =\n",
    "\n",
    "30x^4.y + 30x^3.y^2"
   ]
  },
  {
   "cell_type": "markdown",
   "id": "several-armstrong",
   "metadata": {},
   "source": [
    "### Ejercicio 7\n",
    "\n",
    "2x(x + 3)(x^2 + 2x) =\n",
    "\n",
    "(2x^2 + 6x) (x^2 + 2x) =\n",
    "\n",
    "2x^4 + 4x^3 + 6x^3 + 12x^2 =\n",
    "\n",
    "2x^4 + 10x^3 + 12x^2"
   ]
  },
  {
   "cell_type": "markdown",
   "id": "middle-enlargement",
   "metadata": {},
   "source": [
    "### Ejercicio 8\n",
    "\n",
    "6a^2.b (a + b) (3a - b) =\n",
    "\n",
    "(6a^3.b + 6a^2.b^2) (3a - b)\n",
    "\n",
    "18a^4.b - 6a^3.b^2 + 18a^3.b^2 - 6a^2.b^3 =\n",
    "\n",
    "18a^4.b + 12a^3.b^2 - 6a^2.b^3 "
   ]
  }
 ],
 "metadata": {
  "kernelspec": {
   "display_name": "Python 3",
   "language": "python",
   "name": "python3"
  },
  "language_info": {
   "codemirror_mode": {
    "name": "ipython",
    "version": 3
   },
   "file_extension": ".py",
   "mimetype": "text/x-python",
   "name": "python",
   "nbconvert_exporter": "python",
   "pygments_lexer": "ipython3",
   "version": "3.8.5"
  }
 },
 "nbformat": 4,
 "nbformat_minor": 5
}
