{
 "cells": [
  {
   "cell_type": "markdown",
   "id": "extra-romance",
   "metadata": {},
   "source": [
    "### Ejercicio 1\n",
    "\n",
    "(x + 3) (2x - 5) (3x - 1) =\n",
    "\n",
    "(2x^2 - 5x + 6x - 15) (3x -1) =\n",
    "\n",
    "(2x^2 + x - 15) (3x - 1) =\n",
    "\n",
    "6x^3 - 2x^2 + 3x^2 - x - 45x + 15 =\n",
    "\n",
    "6x^3 + x^2 - 46x + 15"
   ]
  },
  {
   "cell_type": "markdown",
   "id": "double-difference",
   "metadata": {},
   "source": [
    "### Ejercico 2\n",
    "\n",
    "(m + 2) (m - 3) (m + 4) =\n",
    "\n",
    "(m^2 - 3m + 2m - 6) (m + 4) =\n",
    "\n",
    "(m^2 - m - 6) (m + 4) =\n",
    "\n",
    "m^3 + 4m^2 - m - 4m - 6m - 24 =\n",
    "\n",
    "m^3 + 4m^2 - 11m - 24"
   ]
  }
 ],
 "metadata": {
  "kernelspec": {
   "display_name": "Python 3",
   "language": "python",
   "name": "python3"
  },
  "language_info": {
   "codemirror_mode": {
    "name": "ipython",
    "version": 3
   },
   "file_extension": ".py",
   "mimetype": "text/x-python",
   "name": "python",
   "nbconvert_exporter": "python",
   "pygments_lexer": "ipython3",
   "version": "3.8.5"
  }
 },
 "nbformat": 4,
 "nbformat_minor": 5
}
