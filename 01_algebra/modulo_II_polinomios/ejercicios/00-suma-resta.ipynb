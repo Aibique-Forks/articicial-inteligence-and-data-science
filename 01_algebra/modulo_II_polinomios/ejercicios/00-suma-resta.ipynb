{
 "cells": [
  {
   "cell_type": "markdown",
   "id": "seasonal-visitor",
   "metadata": {},
   "source": [
    "# Suma de polinomios 1\n",
    "\n",
    "m+n+s; -m-n+s =\n",
    "\n",
    "n+s; -n+s =\n",
    "\n",
    "s+s =\n",
    "\n",
    "2s"
   ]
  },
  {
   "cell_type": "markdown",
   "id": "encouraging-cause",
   "metadata": {},
   "source": [
    "# Suma de polinomios 2\n",
    "\n",
    "-7x-4y+6z; 10x-20y-8z; -5x+24y+2z =\n",
    "\n",
    "-2x"
   ]
  },
  {
   "cell_type": "markdown",
   "id": "generous-store",
   "metadata": {},
   "source": [
    "# Resta de polinomios 1\n",
    "\n",
    "## De x^3 - y^2 restar - y^2 + 2x^3 - 2xy\n",
    "\n",
    "x^3 - y^2  - (-y^2 + 2x^3 - 2xy) =\n",
    "\n",
    "-1x^3 + 2xy"
   ]
  },
  {
   "cell_type": "markdown",
   "id": "checked-architect",
   "metadata": {},
   "source": [
    "# Resta de polinomios 1\n",
    "\n",
    "# De x^5 - x^2 y^3 +6xy^4 + 25y^5 restar -3xy^4 -8x^3 y^2 + 19y^5+18\n",
    "\n",
    "x^5 - x^2.y^3 +6xy^4 + 25y^5 - (-3xy^4 -8x^3.y^2 + 19y^5+18) =\n",
    "\n",
    "x^5 + 8x^3.y^2 - x^2.y^3 + 9xy^4 + 6y^5 - 18"
   ]
  }
 ],
 "metadata": {
  "kernelspec": {
   "display_name": "Python 3",
   "language": "python",
   "name": "python3"
  },
  "language_info": {
   "codemirror_mode": {
    "name": "ipython",
    "version": 3
   },
   "file_extension": ".py",
   "mimetype": "text/x-python",
   "name": "python",
   "nbconvert_exporter": "python",
   "pygments_lexer": "ipython3",
   "version": "3.8.5"
  }
 },
 "nbformat": 4,
 "nbformat_minor": 5
}
