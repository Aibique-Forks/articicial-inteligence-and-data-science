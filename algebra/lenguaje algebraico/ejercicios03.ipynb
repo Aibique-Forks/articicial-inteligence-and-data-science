{
 "cells": [
  {
   "cell_type": "markdown",
   "id": "everyday-craps",
   "metadata": {},
   "source": [
    "22) La edad de Carlos hace tres a;os respecto a la actual"
   ]
  },
  {
   "cell_type": "code",
   "execution_count": 2,
   "id": "compressed-sweet",
   "metadata": {},
   "outputs": [
    {
     "data": {
      "text/plain": [
       "22"
      ]
     },
     "execution_count": 2,
     "metadata": {},
     "output_type": "execute_result"
    }
   ],
   "source": [
    "edad_actual = 25\n",
    "x = edad_actual\n",
    "x - 3"
   ]
  },
  {
   "cell_type": "markdown",
   "id": "quiet-garage",
   "metadata": {},
   "source": [
    "23) Perimetro de un cuadrado de lado desconocido"
   ]
  },
  {
   "cell_type": "code",
   "execution_count": 6,
   "id": "ancient-hometown",
   "metadata": {},
   "outputs": [
    {
     "data": {
      "text/plain": [
       "20"
      ]
     },
     "execution_count": 6,
     "metadata": {},
     "output_type": "execute_result"
    }
   ],
   "source": [
    "a = 5\n",
    "a*4"
   ]
  },
  {
   "cell_type": "markdown",
   "id": "continuing-reputation",
   "metadata": {},
   "source": [
    "24) Dos numeros que se diferencian en 13 unidades"
   ]
  },
  {
   "cell_type": "code",
   "execution_count": 20,
   "id": "ultimate-camping",
   "metadata": {},
   "outputs": [
    {
     "data": {
      "text/plain": [
       "14"
      ]
     },
     "execution_count": 20,
     "metadata": {},
     "output_type": "execute_result"
    }
   ],
   "source": [
    "a = 1\n",
    "b = 1\n",
    "a = b + 13\n",
    "a"
   ]
  },
  {
   "cell_type": "markdown",
   "id": "fuzzy-policy",
   "metadata": {},
   "source": [
    "25) Un hijo tiene veintidos a;os menos que su padre"
   ]
  },
  {
   "cell_type": "code",
   "execution_count": 23,
   "id": "coordinate-television",
   "metadata": {},
   "outputs": [
    {
     "data": {
      "text/plain": [
       "18"
      ]
     },
     "execution_count": 23,
     "metadata": {},
     "output_type": "execute_result"
    }
   ],
   "source": [
    "p = 40\n",
    "h = p - 22\n",
    "h"
   ]
  },
  {
   "cell_type": "markdown",
   "id": "front-portrait",
   "metadata": {},
   "source": [
    "26) Area de un rectangulo cuya base es seis metros mas larga que su altura"
   ]
  },
  {
   "cell_type": "code",
   "execution_count": 27,
   "id": "reserved-marks",
   "metadata": {},
   "outputs": [
    {
     "data": {
      "text/plain": [
       "160"
      ]
     },
     "execution_count": 27,
     "metadata": {},
     "output_type": "execute_result"
    }
   ],
   "source": [
    "b = 10\n",
    "a = b + 6\n",
    "b*a"
   ]
  },
  {
   "cell_type": "markdown",
   "id": "animal-cholesterol",
   "metadata": {},
   "source": [
    "27) El triple del cuadrado de un numero"
   ]
  },
  {
   "cell_type": "code",
   "execution_count": 37,
   "id": "scientific-folks",
   "metadata": {},
   "outputs": [
    {
     "data": {
      "text/plain": [
       "15"
      ]
     },
     "execution_count": 37,
     "metadata": {},
     "output_type": "execute_result"
    }
   ],
   "source": [
    "(b**2) * 3"
   ]
  },
  {
   "cell_type": "markdown",
   "id": "qualified-break",
   "metadata": {},
   "source": [
    "28) Pedro es cinco a;os mas joven que Andres "
   ]
  },
  {
   "cell_type": "code",
   "execution_count": 36,
   "id": "typical-consumer",
   "metadata": {},
   "outputs": [
    {
     "data": {
      "text/plain": [
       "15"
      ]
     },
     "execution_count": 36,
     "metadata": {},
     "output_type": "execute_result"
    }
   ],
   "source": [
    "p = 20\n",
    "a = p - 5\n",
    "a"
   ]
  },
  {
   "cell_type": "markdown",
   "id": "incorporated-flesh",
   "metadata": {},
   "source": [
    "29) El area de un triangulo"
   ]
  },
  {
   "cell_type": "code",
   "execution_count": 39,
   "id": "protecting-sunset",
   "metadata": {},
   "outputs": [
    {
     "data": {
      "text/plain": [
       "75.0"
      ]
     },
     "execution_count": 39,
     "metadata": {},
     "output_type": "execute_result"
    }
   ],
   "source": [
    "(b*a) / 2"
   ]
  }
 ],
 "metadata": {
  "kernelspec": {
   "display_name": "Python 3",
   "language": "python",
   "name": "python3"
  },
  "language_info": {
   "codemirror_mode": {
    "name": "ipython",
    "version": 3
   },
   "file_extension": ".py",
   "mimetype": "text/x-python",
   "name": "python",
   "nbconvert_exporter": "python",
   "pygments_lexer": "ipython3",
   "version": "3.8.5"
  }
 },
 "nbformat": 4,
 "nbformat_minor": 5
}
